{
 "cells": [
  {
   "cell_type": "markdown",
   "metadata": {},
   "source": [
    "# Get Data"
   ]
  },
  {
   "cell_type": "markdown",
   "metadata": {},
   "source": [
    "Before getting started, ensure that you have run the requirements.txt file with\n",
    "\n",
    "`pip install -r requirements.txt`"
   ]
  },
  {
   "cell_type": "markdown",
   "metadata": {},
   "source": [
    "## Imports"
   ]
  },
  {
   "cell_type": "code",
   "execution_count": 1,
   "metadata": {},
   "outputs": [],
   "source": [
    "import requests\n",
    "from bs4 import BeautifulSoup\n",
    "import urllib.request\n",
    "import json\n",
    "import pandas as pd\n"
   ]
  },
  {
   "cell_type": "markdown",
   "metadata": {},
   "source": [
    "## Function definitions"
   ]
  },
  {
   "cell_type": "code",
   "execution_count": 15,
   "metadata": {},
   "outputs": [],
   "source": [
    "# This function takes the ID of a YouTube video and returns a list of tags.\n",
    "def get_youtube_tags(ID):\n",
    "    ''' This function takes the ID of a YouTube video and returns a list of tags.\n",
    "    (Input): Video ID (String). This is the string that appears at the end of the URL of the video.\n",
    "    (Output): A list of tags (Strings).'''\n",
    "\n",
    "    url = \"https://www.youtube.com/watch?v=\" + ID\n",
    "    request = requests.get(url)\n",
    "    html = BeautifulSoup(request.content, 'html.parser')\n",
    "    tags = html.find_all('meta', attrs={'property': 'og:video:tag'})\n",
    "\n",
    "    content = []\n",
    "    for tag in tags:\n",
    "        content.append(tag['content'])\n",
    "    return content\n"
   ]
  },
  {
   "cell_type": "code",
   "execution_count": 27,
   "metadata": {},
   "outputs": [],
   "source": [
    "# Function to return all channel data from a channel id\n",
    "def get_channel_data(CHANNEL_ID):\n",
    "    \"\"\"This function takes the ID of a YouTube channel and returns a JSON of the channels data.\n",
    "    Including Channel ID, Channel name, and videos on the channel.\n",
    "    (Input): Channel ID (String). This is the string that appears at the end of the URL of the channel.\n",
    "    (Output): List of Dicts. Each dict contains the data for a video on the channel.\n",
    "    (Note): This function requires a Google API key. Replace 'YOUR_API_KEY' with your API key as a string\"\"\"\n",
    "\n",
    "    API_KEY = YOUR_API_KEY  # Replace with your API key\n",
    "\n",
    "    BASE_SEARCH_URL = 'https://www.googleapis.com/youtube/v3/search?'\n",
    "\n",
    "    FIRST_URL = BASE_SEARCH_URL + \\\n",
    "        'key={}&channelId={}&part=snippet,id&order=date&maxResults=25'.format(\n",
    "            API_KEY, CHANNEL_ID)\n",
    "\n",
    "    channel_data = []\n",
    "    url = FIRST_URL\n",
    "\n",
    "    while True:\n",
    "        inp = urllib.request.urlopen(url)\n",
    "        resp = json.load(inp)\n",
    "\n",
    "        for i in resp['items']:\n",
    "            if i['id']['kind'] == \"youtube#video\":\n",
    "                channel_data.append(i)\n",
    "        try:\n",
    "            next_page_token = resp['nextPageToken']\n",
    "            url = FIRST_URL + '&pageToken={}'.format(next_page_token)\n",
    "        except:\n",
    "            break\n",
    "    return channel_data\n"
   ]
  },
  {
   "cell_type": "code",
   "execution_count": 5,
   "metadata": {},
   "outputs": [],
   "source": [
    "# Function to extract the information that we want from the channel/video data.\n",
    "def soup_to_df(CHANNEL_DATA, DF):\n",
    "    \"\"\"This function takes the channel data and creates a dataframe with the information we want.\n",
    "    (Input): Channel data (List of Dicts), and the DataFrame to append to (videos_df)\n",
    "    (output): Updates the DataFrame in place, no return.\"\"\"\n",
    "\n",
    "    for item in CHANNEL_DATA:\n",
    "        channel_id = item['snippet']['channelId']\n",
    "        channel_name = item['snippet']['channelTitle']\n",
    "        video_id = item['id']['videoId']\n",
    "        video_title = item['snippet']['title']\n",
    "        video_tags = get_youtube_tags(video_id)\n",
    "        if len(video_tags) > 0:\n",
    "            if any(DF['VIDEO_ID'] == video_id):\n",
    "                continue\n",
    "            else:\n",
    "                DF.loc[len(DF.index)] = [channel_id, channel_name,\n",
    "                                         video_id, video_title, video_tags]\n",
    "        else:\n",
    "            pass\n"
   ]
  },
  {
   "cell_type": "code",
   "execution_count": 4,
   "metadata": {},
   "outputs": [],
   "source": [
    "# If DF file exists, load it otherwise create a new one\n",
    "def load_df(filename):\n",
    "    DF = pd.read_pickle(filename)\n",
    "    return DF\n",
    "\n",
    "\n",
    "# Save the dataframe to a csv file\n",
    "def save_df(DF, filename):\n",
    "    DF.to_pickle(filename)\n"
   ]
  },
  {
   "cell_type": "code",
   "execution_count": 32,
   "metadata": {},
   "outputs": [],
   "source": [
    "# Function used to a progress check on the DataFrame\n",
    "def channel_counts(df):\n",
    "    count_true = df['LOGGED'].value_counts()[True]\n",
    "    count_false = df['LOGGED'].value_counts()[False]\n",
    "    print(count_true, ' channels logged')\n",
    "    print(count_false, ' channels remaining')"
   ]
  },
  {
   "cell_type": "markdown",
   "metadata": {},
   "source": [
    "## Main driver"
   ]
  },
  {
   "cell_type": "code",
   "execution_count": 7,
   "metadata": {},
   "outputs": [],
   "source": [
    "# Load in the data for working with. This only loads the automotive channels due to time limitations in the project.\n",
    "# Future progress would be to finish collecting the auto channel data, then collect the other categories.\n",
    "channels_df = load_df('Data_In/auto_channels_list.pkl')\n",
    "videos_df = load_df('Data_Out/auto_channels_data.pkl')\n"
   ]
  },
  {
   "cell_type": "code",
   "execution_count": null,
   "metadata": {},
   "outputs": [],
   "source": [
    "# Main driver\n",
    "# 1. Find the next unlogged channel in the channel DF\n",
    "# 2. Get the channel data and send it to the soup_to_df function\n",
    "# 3. Once a channel is complete, print the chanel name\n",
    "# 4. Once the Google API limit is reached, a 403 error will be thrown. triggering the exception.\n",
    "# 5. Save the progresss, then call the channel counts function for a progress check.\n",
    "\n",
    "try:\n",
    "    for row in channels_df.itertuples():\n",
    "        if row.LOGGED == False:\n",
    "            soup_to_df(get_channel_data(row.CHANNEL_ID), videos_df)\n",
    "            channels_df['LOGGED'][row.Index] = True\n",
    "            print(row.CHANNEL_NAME + ' logged')\n",
    "        else:\n",
    "            continue\n",
    "except:\n",
    "    save_df(videos_df, 'Data_Out/auto_channels_data.pkl')\n",
    "    save_df(channels_df, 'Data_in/auto_channels_list.pkl')\n",
    "    channel_counts(channels_df)"
   ]
  }
 ],
 "metadata": {
  "interpreter": {
   "hash": "aee8b7b246df8f9039afb4144a1f6fd8d2ca17a180786b69acc140d282b71a49"
  },
  "kernelspec": {
   "display_name": "Python 3.8.5 64-bit",
   "language": "python",
   "name": "python3"
  },
  "language_info": {
   "codemirror_mode": {
    "name": "ipython",
    "version": 3
   },
   "file_extension": ".py",
   "mimetype": "text/x-python",
   "name": "python",
   "nbconvert_exporter": "python",
   "pygments_lexer": "ipython3",
   "version": "3.8.12"
  },
  "orig_nbformat": 4
 },
 "nbformat": 4,
 "nbformat_minor": 2
}
